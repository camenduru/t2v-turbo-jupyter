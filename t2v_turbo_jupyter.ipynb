{
  "cells": [
    {
      "cell_type": "markdown",
      "metadata": {
        "id": "view-in-github"
      },
      "source": [
        "[![Open In Colab](https://colab.research.google.com/assets/colab-badge.svg)](https://colab.research.google.com/github/camenduru/t2v-turbo-jupyter/blob/main/t2v_turbo_jupyter.ipynb)"
      ]
    },
    {
      "cell_type": "code",
      "execution_count": null,
      "metadata": {
        "id": "VjYy0F2gZIPR"
      },
      "outputs": [],
      "source": [
        "%cd /content\n",
        "!git clone -b dev https://github.com/camenduru/T2V-Turbo-hf /content/t2v-turbo\n",
        "%cd /content/t2v-turbo\n",
        "\n",
        "!pip install -q diffusers==0.28.0 gradio==4.36.1 omegaconf wandb einops pytorch_lightning kornia open_clip_torch\n",
        "\n",
        "!apt -y install -qq aria2\n",
        "!aria2c --console-log-level=error -c -x 16 -s 16 -k 1M https://huggingface.co/camenduru/t2v-turbo/resolve/main/unet_lora.pt -d /content/t2v-turbo/checkpoints -o unet_lora.pt\n",
        "!aria2c --console-log-level=error -c -x 16 -s 16 -k 1M https://huggingface.co/camenduru/t2v-turbo/resolve/main/vc2_model.ckpt -d /content/t2v-turbo/checkpoints -o vc2_model.ckpt\n",
        "\n",
        "!python app.py"
      ]
    }
  ],
  "metadata": {
    "accelerator": "GPU",
    "colab": {
      "gpuType": "T4",
      "provenance": []
    },
    "kernelspec": {
      "display_name": "Python 3",
      "name": "python3"
    },
    "language_info": {
      "name": "python"
    }
  },
  "nbformat": 4,
  "nbformat_minor": 0
}
